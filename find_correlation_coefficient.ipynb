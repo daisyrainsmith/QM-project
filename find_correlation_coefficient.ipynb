
#creating a table with the values I want to find coefficient for
non_ranked_table = pd.concat([income['2012/13'], men_and_women['Mean']], axis=1, ignore_index=False) 
#ignore_index=False means that the new concated table will be given headings '2012/13' and 'Mean' instead of default 0 and 1

#finding spearman and then pearson coefficient - correlating column '2012/13' and 'Mean', you could probably use different tables if you wanted
non_ranked_table['2012/13'].corr(non_ranked_table['Mean'], method='spearman')
non_ranked_table['2012/13'].corr(non_ranked_table['Mean']) # default method = pearson, so this is giving pearson correlation coefficient
