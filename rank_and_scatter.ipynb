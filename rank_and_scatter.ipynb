
#putting the two ranks together in one table so that I can plot them against eachother
rank_table = pd.concat([income_rank_table, life_exp_rank_table], axis=1, ignore_index=True)

#slight cleaning up of rank table
rank_table.index.name = 'Borough'
rank_table.rename(index=str, columns={0: "Income rank", 1: "Life expectancy rank"})

#trying to make a scatter plot from my rank_table
rank_table.plot(x='Income rank',y='Life expectancy rank',style='scatter')
