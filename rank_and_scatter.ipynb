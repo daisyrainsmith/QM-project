
#giving data_path a route to the new data
data_path2 = "./projectdata/income20122013.csv"

#reading the data and naming it income
income =  pd.read_csv(data_path2)

#cleaning income a little so Borough is titles of indexes
income.set_index('Borough', inplace=True, drop=True)

#make the values in income integers not strings
income =income.apply(pd.to_numeric, errors='coerce')

#adding a new column to income to rank the values
income['Income Rank'] = income['2012/13'].rank(axis=0, method='min', numeric_only=None, na_option='keep', ascending=True, pct=False)

#for some reason I had to make a new table which is the same as income['Income Rank'] in order to use functions on it later
income_rank_table = income['Income Rank'] 
life_exp_rank_table = men_and_women['Rank Life Expectancy']

#putting the two ranks together in one table so that I can plot them against eachother
rank_table = pd.concat([income_rank_table, life_exp_rank_table], axis=1, ignore_index=True)
#rank_table.set_index('Local Authority', inplace=True, drop=True)
rank_table.index.name = 'Borough'
rank_table.rename(columns={0: "Income rank", 1: "Life expectancy rank"},inplace = True)

#trying to make a scatter plot from my rank_table
rank_table.plot.scatter(x='Income rank', y='Life expectancy rank')
plt.show()
