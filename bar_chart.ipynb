life_exp_mean.plot.bar(x='Local Authority', y="Mean")
plt.show()
