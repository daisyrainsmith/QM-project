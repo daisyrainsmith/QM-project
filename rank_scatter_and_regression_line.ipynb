
import numpy as np
#giving data_path a route to the new data
data_path2 = "./projectdata/income20122013.csv"

#reading the data and naming it income
income =  pd.read_csv(data_path2)

#cleaning income a little so Borough is titles of indexes
income.set_index('Borough', inplace=True, drop=True)

#make the values in income integers not strings
income =income.apply(pd.to_numeric, errors='coerce')

#adding a new column to income to rank the values
income['Income Rank'] = income['2012/13'].rank(axis=0, method='min', numeric_only=None, na_option='keep', ascending=True, pct=False)

#get rid of column with NaN in it for income - necessary for regression line plotting
income.drop('City of London', axis=0, inplace=True) 

#for some reason I had to make a new table which is the same as income['Income Rank'] in order to use functions on it later
income_rank_table = income['Income Rank'] 
life_exp_rank_table = men_and_women['Rank Life Expectancy']

#putting the two ranks together in one table so that I can plot them against eachother
rank_table = pd.concat([income_rank_table, life_exp_rank_table], axis=1, ignore_index=True)
#rank_table.set_index('Local Authority', inplace=True, drop=True)
rank_table.index.name = 'Borough'
rank_table.rename(columns={0: "Income rank", 1: "Life expectancy rank"},inplace = True)
#rank_table.head()

#Make a scatter plot and regression line from my rank_table -
#uses numpy library to fit a linear polynomial (i.e. a LINE) to the data using regression
line = np.polyfit(rank_table['Income rank'], rank_table['Life expectancy rank'], deg=1)

y = line[0]*rank_table['Income rank'] + line[1]

fig, ax = plt.subplots()
ax.scatter(rank_table['Income rank'], rank_table['Life expectancy rank'])
ax.plot(rank_table['Income rank'], y, color='red')
plt.xlabel('Income rank')
plt.ylabel('Life Expectancy rank')
plt.title('Rank table')
plt.show()
