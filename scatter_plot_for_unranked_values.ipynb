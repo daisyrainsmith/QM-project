income_table = income['Income per year'] 
life_exp_table = men_and_women['Mean']

#putting the two tables together so that I can plot them against eachother
normal_table = pd.concat([income_table, life_exp_table], axis=1, ignore_index=True)
normal_table.index.name = 'Borough'
normal_table.rename(columns={0: "Income per year", 1: "Life expectancy at 65"},inplace = True)
#normal_table

#Make a scatter plot and regression line from my normal_table -
#uses numpy library to fit a linear polynomial (i.e. a LINE) to the data using regression
fit = np.polyfit(normal_table['Income per year'], normal_table['Life expectancy at 65'], deg=1)

y = fit[0]*normal_table['Life expectancy at 65'] + fit[1]

fig, ax = plt.subplots()
ax.scatter(normal_table['Income per year'], normal_table['Life expectancy at 65'])
ax.plot(normal_table['Income per year'], y, color='red')
plt.xlabel('Income per year')
plt.ylabel('Life expectancy at 65')
plt.title('Income vs. Life Expectancy')
plt.show()
